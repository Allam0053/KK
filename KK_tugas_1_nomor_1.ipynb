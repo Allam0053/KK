{
  "nbformat": 4,
  "nbformat_minor": 0,
  "metadata": {
    "colab": {
      "name": "KK-tugas-1-nomor-1.ipynb",
      "provenance": [],
      "authorship_tag": "ABX9TyNIcN994/jsBmv+ot1biSto",
      "include_colab_link": true
    },
    "kernelspec": {
      "name": "python3",
      "display_name": "Python 3"
    },
    "language_info": {
      "name": "python"
    }
  },
  "cells": [
    {
      "cell_type": "markdown",
      "metadata": {
        "id": "view-in-github",
        "colab_type": "text"
      },
      "source": [
        "<a href=\"https://colab.research.google.com/github/Allam0053/KK/blob/main/KK_tugas_1_nomor_1.ipynb\" target=\"_parent\"><img src=\"https://colab.research.google.com/assets/colab-badge.svg\" alt=\"Open In Colab\"/></a>"
      ]
    },
    {
      "cell_type": "markdown",
      "metadata": {
        "id": "MghJmN2cJnOZ"
      },
      "source": [
        "### Diketahui\n",
        "1. Diketahui contoh dataset dengan 8 data sebagai berikut : \n",
        "\n",
        "  - A1=(2,10)\n",
        "  - A2=(2,5)\n",
        "  - A3=(8,4)\n",
        "  - A4=(5,8)\n",
        "  - A5=(7,5)\n",
        "  - A6=(6,4)\n",
        "  - A7=(1,2)\n",
        "  - A8=(4,9)\n",
        "\n",
        "  ### Soal\n",
        "  - Gunakan algoritma k-Means dengan satu iterasi dengan jumlah klaster adalah 3 dengan inisial pusat klaster adalah A1, A4, A7. Tuliskan hasil klaster dari 8 data tersebut dan pusat klaster yang terbaru.\n",
        "\n",
        "  - Lanjutkan dengan iterasi kedua dengan algoritma k-Means kemudian tuliskan hasil klaster dari 8 data tersebut dan pusat klaster yang terbaru.\n",
        "\n",
        "  - Gunakan algoritma hierarchical clustering (agglomerative) dengan complete-link. Hitung distance matrix tiap tahapan dari dataset di atas dan buatkan hasil klaster dengan dendogramnya.\n"
      ]
    },
    {
      "cell_type": "code",
      "metadata": {
        "id": "ODTkVasoLcZN"
      },
      "source": [
        "import pandas as pd\n",
        "import numpy as np\n",
        "from sklearn.cluster import KMeans\n",
        "\n",
        "import matplotlib.pyplot as plt\n",
        "%matplotlib inline\n",
        "import seaborn as sns\n",
        "\n",
        "from sklearn.cluster import AgglomerativeClustering as AC\n",
        "\n",
        "from scipy.cluster.hierarchy import dendrogram"
      ],
      "execution_count": null,
      "outputs": []
    },
    {
      "cell_type": "code",
      "metadata": {
        "colab": {
          "base_uri": "https://localhost:8080/",
          "height": 204
        },
        "id": "ro6OalhSJWx5",
        "outputId": "dff0e60c-4257-4c7a-9a72-dc782e8c2968"
      },
      "source": [
        "# init data\n",
        "df = pd.DataFrame(np.array([[2.0, 10.0], \n",
        "                             [2.0, 5.0], \n",
        "                             [8.0, 4.0],\n",
        "                             [5.0, 8.0], \n",
        "                             [7.0, 5.0], \n",
        "                             [6.0, 4.0],\n",
        "                             [1.0, 2.0], \n",
        "                             [4.0, 9.0]]), columns=['a', 'b'])\n",
        "df.head()"
      ],
      "execution_count": null,
      "outputs": [
        {
          "output_type": "execute_result",
          "data": {
            "text/html": [
              "<div>\n",
              "<style scoped>\n",
              "    .dataframe tbody tr th:only-of-type {\n",
              "        vertical-align: middle;\n",
              "    }\n",
              "\n",
              "    .dataframe tbody tr th {\n",
              "        vertical-align: top;\n",
              "    }\n",
              "\n",
              "    .dataframe thead th {\n",
              "        text-align: right;\n",
              "    }\n",
              "</style>\n",
              "<table border=\"1\" class=\"dataframe\">\n",
              "  <thead>\n",
              "    <tr style=\"text-align: right;\">\n",
              "      <th></th>\n",
              "      <th>a</th>\n",
              "      <th>b</th>\n",
              "    </tr>\n",
              "  </thead>\n",
              "  <tbody>\n",
              "    <tr>\n",
              "      <th>0</th>\n",
              "      <td>2.0</td>\n",
              "      <td>10.0</td>\n",
              "    </tr>\n",
              "    <tr>\n",
              "      <th>1</th>\n",
              "      <td>2.0</td>\n",
              "      <td>5.0</td>\n",
              "    </tr>\n",
              "    <tr>\n",
              "      <th>2</th>\n",
              "      <td>8.0</td>\n",
              "      <td>4.0</td>\n",
              "    </tr>\n",
              "    <tr>\n",
              "      <th>3</th>\n",
              "      <td>5.0</td>\n",
              "      <td>8.0</td>\n",
              "    </tr>\n",
              "    <tr>\n",
              "      <th>4</th>\n",
              "      <td>7.0</td>\n",
              "      <td>5.0</td>\n",
              "    </tr>\n",
              "  </tbody>\n",
              "</table>\n",
              "</div>"
            ],
            "text/plain": [
              "     a     b\n",
              "0  2.0  10.0\n",
              "1  2.0   5.0\n",
              "2  8.0   4.0\n",
              "3  5.0   8.0\n",
              "4  7.0   5.0"
            ]
          },
          "metadata": {},
          "execution_count": 29
        }
      ]
    },
    {
      "cell_type": "markdown",
      "metadata": {
        "id": "_Hk34BgOWZ43"
      },
      "source": [
        "### a"
      ]
    },
    {
      "cell_type": "code",
      "metadata": {
        "colab": {
          "base_uri": "https://localhost:8080/"
        },
        "id": "isFya3fgM8Yl",
        "outputId": "098b243d-72a5-4fde-d379-894e01619ed5"
      },
      "source": [
        "# define pusat centroid awal\n",
        "init_array = np.array([[2.0, 10.0], \n",
        "                 [5.0, 8.0], \n",
        "                 [1.0, 2.0]], np.float64)\n",
        "\n",
        "# init Kmeans dengan param tertentu\n",
        "km = KMeans(\n",
        "    n_clusters=3, \n",
        "    init=init_array, \n",
        "    n_init=1, \n",
        "    max_iter=1, # <= iterasi == 1\n",
        "    tol=0.0001, \n",
        "    verbose=0, \n",
        "    random_state=None, \n",
        "    copy_x=True, \n",
        "    algorithm='auto')\n",
        "\n",
        "# hitung kmeans dari data yang telah diberikan\n",
        "km.fit(df)"
      ],
      "execution_count": null,
      "outputs": [
        {
          "output_type": "execute_result",
          "data": {
            "text/plain": [
              "KMeans(algorithm='auto', copy_x=True,\n",
              "       init=array([[ 2., 10.],\n",
              "       [ 5.,  8.],\n",
              "       [ 1.,  2.]]),\n",
              "       max_iter=1, n_clusters=3, n_init=1, n_jobs=None,\n",
              "       precompute_distances='auto', random_state=None, tol=0.0001, verbose=0)"
            ]
          },
          "metadata": {},
          "execution_count": 30
        }
      ]
    },
    {
      "cell_type": "code",
      "metadata": {
        "colab": {
          "base_uri": "https://localhost:8080/"
        },
        "id": "RDwgmjzbWIVS",
        "outputId": "9e8e659e-34b7-4318-a096-05c8cae8c4cf"
      },
      "source": [
        "# cek cluster center yang baru\n",
        "km.cluster_centers_"
      ],
      "execution_count": null,
      "outputs": [
        {
          "output_type": "execute_result",
          "data": {
            "text/plain": [
              "array([[ 2. , 10. ],\n",
              "       [ 6. ,  6. ],\n",
              "       [ 1.5,  3.5]])"
            ]
          },
          "metadata": {},
          "execution_count": 32
        }
      ]
    },
    {
      "cell_type": "code",
      "metadata": {
        "colab": {
          "base_uri": "https://localhost:8080/"
        },
        "id": "i-t5tzQpXWNz",
        "outputId": "4c7175e1-f56a-43a5-9f47-8ccc2388cffe"
      },
      "source": [
        "km.labels_"
      ],
      "execution_count": null,
      "outputs": [
        {
          "output_type": "execute_result",
          "data": {
            "text/plain": [
              "array([0, 2, 1, 1, 1, 1, 2, 0], dtype=int32)"
            ]
          },
          "metadata": {},
          "execution_count": 35
        }
      ]
    },
    {
      "cell_type": "code",
      "metadata": {
        "colab": {
          "base_uri": "https://localhost:8080/",
          "height": 349
        },
        "id": "Qs8tTT0xXDZp",
        "outputId": "b045fc4c-4f9d-423c-eb30-a311ff437b82"
      },
      "source": [
        "# menambahkan kolom label pada dataset\n",
        "df['Labels'] = km.labels_\n",
        " \n",
        "# membuat plot KMeans dengan 5 klaster\n",
        "plt.figure(figsize=(8,4))\n",
        "sns.scatterplot(df['a'], df['b'], hue=df['Labels'],\n",
        "                palette=sns.color_palette('hls', 3))\n",
        "plt.title('KMeans dengan 3 Cluster')\n",
        "plt.show()"
      ],
      "execution_count": null,
      "outputs": [
        {
          "output_type": "stream",
          "name": "stderr",
          "text": [
            "/usr/local/lib/python3.7/dist-packages/seaborn/_decorators.py:43: FutureWarning: Pass the following variables as keyword args: x, y. From version 0.12, the only valid positional argument will be `data`, and passing other arguments without an explicit keyword will result in an error or misinterpretation.\n",
            "  FutureWarning\n"
          ]
        },
        {
          "output_type": "display_data",
          "data": {
            "image/png": "[encoded data removed]",
            "text/plain": [
              "<Figure size 576x288 with 1 Axes>"
            ]
          },
          "metadata": {
            "needs_background": "light"
          }
        }
      ]
    },
    {
      "cell_type": "markdown",
      "metadata": {
        "id": "qCv1pygJYOci"
      },
      "source": [
        "### b"
      ]
    },
    {
      "cell_type": "code",
      "metadata": {
        "colab": {
          "base_uri": "https://localhost:8080/"
        },
        "id": "VKfwNdAaYRqQ",
        "outputId": "8813d016-a4f0-475e-9e2b-aa8d8cc1d27d"
      },
      "source": [
        "# karena df yang awal sudah ditambahi label, maka dideclare ulang\n",
        "df = pd.DataFrame(np.array([[2.0, 10.0], \n",
        "                             [2.0, 5.0], \n",
        "                             [8.0, 4.0],\n",
        "                             [5.0, 8.0], \n",
        "                             [7.0, 5.0], \n",
        "                             [6.0, 4.0],\n",
        "                             [1.0, 2.0], \n",
        "                             [4.0, 9.0]]), columns=['a', 'b'])\n",
        "\n",
        "# init Kmeans dengan param tertentu\n",
        "km_b = KMeans(\n",
        "    n_clusters=3, \n",
        "    init=init_array, \n",
        "    n_init=1, \n",
        "    max_iter=2, # <= iterasi == 2\n",
        "    tol=0.0001, \n",
        "    verbose=0, \n",
        "    random_state=None, \n",
        "    copy_x=True, \n",
        "    algorithm='auto')\n",
        "\n",
        "# hitung kmeans dari df yang telah diberikan\n",
        "km_b.fit(df)"
      ],
      "execution_count": null,
      "outputs": [
        {
          "output_type": "execute_result",
          "data": {
            "text/plain": [
              "KMeans(algorithm='auto', copy_x=True,\n",
              "       init=array([[ 2., 10.],\n",
              "       [ 5.,  8.],\n",
              "       [ 1.,  2.]]),\n",
              "       max_iter=2, n_clusters=3, n_init=1, n_jobs=None,\n",
              "       precompute_distances='auto', random_state=None, tol=0.0001, verbose=0)"
            ]
          },
          "metadata": {},
          "execution_count": 39
        }
      ]
    },
    {
      "cell_type": "code",
      "metadata": {
        "colab": {
          "base_uri": "https://localhost:8080/"
        },
        "id": "TNSPNBPuY0rg",
        "outputId": "ff453493-66a1-479b-9a34-b249f3519838"
      },
      "source": [
        "km_b.cluster_centers_"
      ],
      "execution_count": null,
      "outputs": [
        {
          "output_type": "execute_result",
          "data": {
            "text/plain": [
              "array([[3.  , 9.5 ],\n",
              "       [6.5 , 5.25],\n",
              "       [1.5 , 3.5 ]])"
            ]
          },
          "metadata": {},
          "execution_count": 40
        }
      ]
    },
    {
      "cell_type": "code",
      "metadata": {
        "colab": {
          "base_uri": "https://localhost:8080/",
          "height": 349
        },
        "id": "A1ES3A_xZbyM",
        "outputId": "423fc45f-6bfe-4594-d3c7-4a6c15a8125e"
      },
      "source": [
        "# menambahkan kolom label pada dataset\n",
        "df['Labels'] = km_b.labels_\n",
        " \n",
        "# membuat plot KMeans dengan 5 klaster\n",
        "plt.figure(figsize=(8,4))\n",
        "sns.scatterplot(df['a'], df['b'], hue=df['Labels'],\n",
        "                palette=sns.color_palette('hls', 3))\n",
        "plt.title('KMeans dengan 3 Cluster')\n",
        "plt.show()"
      ],
      "execution_count": null,
      "outputs": [
        {
          "output_type": "stream",
          "name": "stderr",
          "text": [
            "/usr/local/lib/python3.7/dist-packages/seaborn/_decorators.py:43: FutureWarning: Pass the following variables as keyword args: x, y. From version 0.12, the only valid positional argument will be `data`, and passing other arguments without an explicit keyword will result in an error or misinterpretation.\n",
            "  FutureWarning\n"
          ]
        },
        {
          "output_type": "display_data",
          "data": {
            "image/png": "[encoded data removed]",
            "text/plain": [
              "<Figure size 576x288 with 1 Axes>"
            ]
          },
          "metadata": {
            "needs_background": "light"
          }
        }
      ]
    },
    {
      "cell_type": "markdown",
      "metadata": {
        "id": "tve1uphTZ8KN"
      },
      "source": [
        "### c"
      ]
    },
    {
      "cell_type": "code",
      "metadata": {
        "id": "d5ffqoWrZ_Si"
      },
      "source": [
        "# karena df yang awal sudah ditambahi label, maka dideclare ulang\n",
        "df = pd.DataFrame(np.array([[2.0, 10.0], \n",
        "                             [2.0, 5.0], \n",
        "                             [8.0, 4.0],\n",
        "                             [5.0, 8.0], \n",
        "                             [7.0, 5.0], \n",
        "                             [6.0, 4.0],\n",
        "                             [1.0, 2.0], \n",
        "                             [4.0, 9.0]]), columns=['a', 'b'])\n",
        "\n",
        "my_ac = AC(n_clusters=None,\n",
        "          affinity='euclidean', \n",
        "          memory=None, \n",
        "          connectivity=None, \n",
        "          compute_full_tree='auto', \n",
        "          linkage='complete', \n",
        "          distance_threshold=0)\n",
        "\n"
      ],
      "execution_count": null,
      "outputs": []
    },
    {
      "cell_type": "code",
      "metadata": {
        "colab": {
          "base_uri": "https://localhost:8080/",
          "height": 298
        },
        "id": "ikQoU-0Ii-sQ",
        "outputId": "a99cb4d0-89f3-413b-c9f2-47a78ef787fe"
      },
      "source": [
        "# function copied from https://scikit-learn.org/stable/auto_examples/cluster/plot_agglomerative_dendrogram.html\n",
        "def plot_dendrogram(model, **kwargs):\n",
        "    # Create linkage matrix and then plot the dendrogram\n",
        "\n",
        "    # create the counts of samples under each node\n",
        "    counts = np.zeros(model.children_.shape[0])\n",
        "    n_samples = len(model.labels_)\n",
        "    for i, merge in enumerate(model.children_):\n",
        "        current_count = 0\n",
        "        for child_idx in merge:\n",
        "            if child_idx < n_samples:\n",
        "                current_count += 1  # leaf node\n",
        "            else:\n",
        "                current_count += counts[child_idx - n_samples]\n",
        "        counts[i] = current_count\n",
        "\n",
        "    linkage_matrix = np.column_stack([model.children_, model.distances_,\n",
        "                                      counts]).astype(float)\n",
        "\n",
        "    # Plot the corresponding dendrogram\n",
        "    dendrogram(linkage_matrix, **kwargs)\n",
        "\n",
        "X = df\n",
        "\n",
        "# setting distance_threshold=0 ensures we compute the full tree.\n",
        "model = my_ac\n",
        "\n",
        "model = model.fit(X)\n",
        "plt.title('Hierarchical Clustering Dendrogram')\n",
        "# plot the top three levels of the dendrogram\n",
        "plot_dendrogram(model, truncate_mode='level', p=3)\n",
        "plt.xlabel(\"Number of points in node (or index of point if no parenthesis).\")\n",
        "plt.show()"
      ],
      "execution_count": null,
      "outputs": [
        {
          "output_type": "display_data",
          "data": {
            "image/png": "[encoded data removed]",
            "text/plain": [
              "<Figure size 432x288 with 1 Axes>"
            ]
          },
          "metadata": {
            "needs_background": "light"
          }
        }
      ]
    }
  ]
}