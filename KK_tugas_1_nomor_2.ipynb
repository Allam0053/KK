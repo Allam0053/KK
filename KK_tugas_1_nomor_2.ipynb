{
  "nbformat": 4,
  "nbformat_minor": 0,
  "metadata": {
    "colab": {
      "name": "KK-tugas-1-nomor-2.ipynb",
      "provenance": [],
      "mount_file_id": "1XUVs00pfykgpXZb7y0e5ZH3Fblm5DV8S",
      "authorship_tag": "ABX9TyNUOIOofWdJjKwJaCZE3V25",
      "include_colab_link": true
    },
    "kernelspec": {
      "name": "python3",
      "display_name": "Python 3"
    },
    "language_info": {
      "name": "python"
    }
  },
  "cells": [
    {
      "cell_type": "markdown",
      "metadata": {
        "id": "view-in-github",
        "colab_type": "text"
      },
      "source": [
        "<a href=\"https://colab.research.google.com/github/Allam0053/KK/blob/main/KK_tugas_1_nomor_2.ipynb\" target=\"_parent\"><img src=\"https://colab.research.google.com/assets/colab-badge.svg\" alt=\"Open In Colab\"/></a>"
      ]
    },
    {
      "cell_type": "markdown",
      "metadata": {
        "id": "cdXYBoTvtVUN"
      },
      "source": [
        "### soal\n",
        "2. Download dataset UCI Machienary Wholesale+customers pada link berikut:\n",
        "https://archive.ics.uci.edu/ml/datasets/Wholesale+customers\n",
        "  - Lakukan penerapan metode clustering k-Means dan analisis jumlak k yang optimal\n",
        "  - Lakukan penerapan metode clustering Hierarchical menggunakan pendekatan single\n",
        "link, complete link, average link, dan ward.\n",
        "  - Bandingkan hasil clustering pada poin 2a dan 2b menggunakan metode evaluasi\n",
        "Silhouette."
      ]
    },
    {
      "cell_type": "code",
      "metadata": {
        "id": "IA27xuK5mYHB"
      },
      "source": [
        "# Import necessary libraries\n",
        "import numpy as np # linear algebra\n",
        "import pandas as pd # data processing, CSV file I/O (e.g. pd.read_csv)\n",
        "from matplotlib import pyplot as plt\n",
        "\n",
        "from sklearn.cluster import KMeans\n",
        "from sklearn.cluster import AgglomerativeClustering\n",
        "from sklearn.metrics import silhouette_score\n",
        "\n",
        "import scipy.cluster.hierarchy as sch"
      ],
      "execution_count": 76,
      "outputs": []
    },
    {
      "cell_type": "code",
      "metadata": {
        "colab": {
          "base_uri": "https://localhost:8080/",
          "height": 204
        },
        "id": "1UMgKqgU-nzZ",
        "outputId": "2922acaa-5736-4b4f-98e6-a30b545aacd4"
      },
      "source": [
        "import pandas as pd\n",
        " \n",
        "#ubah file csv menjadi dataframe\n",
        "df = pd.read_csv('/content/drive/MyDrive/KK/Wholesale-customers-data.csv')\n",
        "df.head()"
      ],
      "execution_count": 77,
      "outputs": [
        {
          "output_type": "execute_result",
          "data": {
            "text/html": [
              "<div>\n",
              "<style scoped>\n",
              "    .dataframe tbody tr th:only-of-type {\n",
              "        vertical-align: middle;\n",
              "    }\n",
              "\n",
              "    .dataframe tbody tr th {\n",
              "        vertical-align: top;\n",
              "    }\n",
              "\n",
              "    .dataframe thead th {\n",
              "        text-align: right;\n",
              "    }\n",
              "</style>\n",
              "<table border=\"1\" class=\"dataframe\">\n",
              "  <thead>\n",
              "    <tr style=\"text-align: right;\">\n",
              "      <th></th>\n",
              "      <th>Channel</th>\n",
              "      <th>Region</th>\n",
              "      <th>Fresh</th>\n",
              "      <th>Milk</th>\n",
              "      <th>Grocery</th>\n",
              "      <th>Frozen</th>\n",
              "      <th>Detergents_Paper</th>\n",
              "      <th>Delicassen</th>\n",
              "    </tr>\n",
              "  </thead>\n",
              "  <tbody>\n",
              "    <tr>\n",
              "      <th>0</th>\n",
              "      <td>2</td>\n",
              "      <td>3</td>\n",
              "      <td>12669</td>\n",
              "      <td>9656</td>\n",
              "      <td>7561</td>\n",
              "      <td>214</td>\n",
              "      <td>2674</td>\n",
              "      <td>1338</td>\n",
              "    </tr>\n",
              "    <tr>\n",
              "      <th>1</th>\n",
              "      <td>2</td>\n",
              "      <td>3</td>\n",
              "      <td>7057</td>\n",
              "      <td>9810</td>\n",
              "      <td>9568</td>\n",
              "      <td>1762</td>\n",
              "      <td>3293</td>\n",
              "      <td>1776</td>\n",
              "    </tr>\n",
              "    <tr>\n",
              "      <th>2</th>\n",
              "      <td>2</td>\n",
              "      <td>3</td>\n",
              "      <td>6353</td>\n",
              "      <td>8808</td>\n",
              "      <td>7684</td>\n",
              "      <td>2405</td>\n",
              "      <td>3516</td>\n",
              "      <td>7844</td>\n",
              "    </tr>\n",
              "    <tr>\n",
              "      <th>3</th>\n",
              "      <td>1</td>\n",
              "      <td>3</td>\n",
              "      <td>13265</td>\n",
              "      <td>1196</td>\n",
              "      <td>4221</td>\n",
              "      <td>6404</td>\n",
              "      <td>507</td>\n",
              "      <td>1788</td>\n",
              "    </tr>\n",
              "    <tr>\n",
              "      <th>4</th>\n",
              "      <td>2</td>\n",
              "      <td>3</td>\n",
              "      <td>22615</td>\n",
              "      <td>5410</td>\n",
              "      <td>7198</td>\n",
              "      <td>3915</td>\n",
              "      <td>1777</td>\n",
              "      <td>5185</td>\n",
              "    </tr>\n",
              "  </tbody>\n",
              "</table>\n",
              "</div>"
            ],
            "text/plain": [
              "   Channel  Region  Fresh  Milk  Grocery  Frozen  Detergents_Paper  Delicassen\n",
              "0        2       3  12669  9656     7561     214              2674        1338\n",
              "1        2       3   7057  9810     9568    1762              3293        1776\n",
              "2        2       3   6353  8808     7684    2405              3516        7844\n",
              "3        1       3  13265  1196     4221    6404               507        1788\n",
              "4        2       3  22615  5410     7198    3915              1777        5185"
            ]
          },
          "metadata": {},
          "execution_count": 77
        }
      ]
    },
    {
      "cell_type": "markdown",
      "metadata": {
        "id": "vjLOakBEq-cZ"
      },
      "source": [
        "### 2.a"
      ]
    },
    {
      "cell_type": "code",
      "metadata": {
        "id": "nUZNGpi2uTfm"
      },
      "source": [
        "def myClusterFunc(df, k, SSE, score_maks):\n",
        "    model = KMeans(n_clusters=k)\n",
        "    kmeans = model.fit(df)\n",
        "    score = silhouette_score(df, kmeans.labels_)\n",
        "    if (score > score_maks[0]):\n",
        "      score_maks[0] = score\n",
        "    print(\"n_clusters k-Means=\", k, \"SSE value:\", kmeans.inertia_,\n",
        "          \"Silhouette_score:\", score)\n",
        "    SSE.append(kmeans.inertia_)"
      ],
      "execution_count": 78,
      "outputs": []
    },
    {
      "cell_type": "code",
      "metadata": {
        "colab": {
          "base_uri": "https://localhost:8080/",
          "height": 431
        },
        "id": "p9yjcaTfJyME",
        "outputId": "863b94e7-8f39-4036-b2cd-dad36cc83d64"
      },
      "source": [
        "cluster_range = range(2, 10)\n",
        "\n",
        "SSE = []\n",
        "score_maks = [0]\n",
        "\n",
        "for k in cluster_range:\n",
        "    myClusterFunc(df, k, SSE, score_maks)\n",
        "kmeans_score = score_maks[0]\n",
        "\n",
        "plt.plot(cluster_range, SSE)\n",
        "\n",
        "plt.xlabel('Jumlah Cluster')\n",
        "plt.ylabel('SSE')\n",
        "plt.title('The Elbow Method')\n",
        "\n",
        "plt.show()"
      ],
      "execution_count": 79,
      "outputs": [
        {
          "output_type": "stream",
          "name": "stdout",
          "text": [
            "n_clusters k-Means= 2 SSE value: 113217528878.79836 Silhouette_score: 0.5115333882980367\n",
            "n_clusters k-Means= 3 SSE value: 80332414178.02908 Silhouette_score: 0.4783511411368133\n",
            "n_clusters k-Means= 4 SSE value: 64881342317.65967 Silhouette_score: 0.3901291340789497\n",
            "n_clusters k-Means= 5 SSE value: 53091562765.51761 Silhouette_score: 0.3634715540384712\n",
            "n_clusters k-Means= 6 SSE value: 46919446276.772224 Silhouette_score: 0.37880387211372446\n",
            "n_clusters k-Means= 7 SSE value: 41232579199.20799 Silhouette_score: 0.34276781735560075\n",
            "n_clusters k-Means= 8 SSE value: 36016968629.35569 Silhouette_score: 0.3273711348101747\n",
            "n_clusters k-Means= 9 SSE value: 32884435376.046524 Silhouette_score: 0.30636829009440875\n"
          ]
        },
        {
          "output_type": "display_data",
          "data": {
            "image/png": "[encoded data removed]",
            "text/plain": [
              "<Figure size 432x288 with 1 Axes>"
            ]
          },
          "metadata": {
            "needs_background": "light"
          }
        }
      ]
    },
    {
      "cell_type": "markdown",
      "metadata": {
        "id": "KRmWF28zrAXh"
      },
      "source": [
        "### 2.b"
      ]
    },
    {
      "cell_type": "code",
      "metadata": {
        "id": "D2OpaFzCvkxY"
      },
      "source": [
        "def showDendo(judul, method, data):\n",
        "  plt.title(judul)\n",
        "  ward_dendogram = sch.dendrogram(sch.linkage(data, method=method))\n",
        "  plt.show()"
      ],
      "execution_count": 80,
      "outputs": []
    },
    {
      "cell_type": "code",
      "metadata": {
        "colab": {
          "base_uri": "https://localhost:8080/",
          "height": 298
        },
        "id": "GqCKBtEA-qm1",
        "outputId": "9a4853e3-967d-4745-dbc8-610f0c23eefa"
      },
      "source": [
        "n_clusters = 2\n",
        "\n",
        "# Hirarchical Clustering menggunakan pendekatan ward\n",
        "showDendo(judul=\"Dendrograms using Ward\", method='ward', data=df)\n",
        "\n",
        "hc_ward = AgglomerativeClustering(\n",
        "            n_clusters=n_clusters, \n",
        "            affinity='euclidean', \n",
        "            linkage='ward')\n",
        "y_hc_ward = hc_ward.fit_predict(df)\n",
        "\n",
        "ward_score = silhouette_score(df, y_hc_ward)\n",
        "print(\"Silhouette_score:\", ward_score)"
      ],
      "execution_count": 81,
      "outputs": [
        {
          "output_type": "display_data",
          "data": {
            "image/png": "[encoded data removed]",
            "text/plain": [
              "<Figure size 432x288 with 1 Axes>"
            ]
          },
          "metadata": {
            "needs_background": "light"
          }
        },
        {
          "output_type": "stream",
          "name": "stdout",
          "text": [
            "Silhouette_score: 0.3447187623823024\n"
          ]
        }
      ]
    },
    {
      "cell_type": "code",
      "metadata": {
        "colab": {
          "base_uri": "https://localhost:8080/",
          "height": 298
        },
        "id": "ryeC83h-BuE2",
        "outputId": "401df842-4cee-42d3-e7f0-42be78836549"
      },
      "source": [
        "# Hirarchical Clustering menggunakan pendekatan complete link\n",
        "showDendo(judul=\"Dendrograms using Complete\", method='complete', data=df)\n",
        "\n",
        "hc_complete = AgglomerativeClustering(\n",
        "    n_clusters=n_clusters, affinity='euclidean', linkage='complete')\n",
        "y_hc_complete = hc_complete.fit_predict(df)\n",
        "\n",
        "complete_score = silhouette_score(df, y_hc_complete)\n",
        "print(\"Silhouette_score:\", complete_score)"
      ],
      "execution_count": 82,
      "outputs": [
        {
          "output_type": "display_data",
          "data": {
            "image/png": "[encoded data removed]",
            "text/plain": [
              "<Figure size 432x288 with 1 Axes>"
            ]
          },
          "metadata": {
            "needs_background": "light"
          }
        },
        {
          "output_type": "stream",
          "name": "stdout",
          "text": [
            "Silhouette_score: 0.7275938818770178\n"
          ]
        }
      ]
    },
    {
      "cell_type": "code",
      "metadata": {
        "id": "1ruIiadb-s96",
        "colab": {
          "base_uri": "https://localhost:8080/",
          "height": 298
        },
        "outputId": "48a59651-745d-402e-a757-f1b23b191b4d"
      },
      "source": [
        "# Hirarchical Clustering menggunakan pendekatan average link\n",
        "showDendo(judul=\"Dendrograms using Average\", method='average', data=df)\n",
        "\n",
        "hc_average = AgglomerativeClustering(\n",
        "    n_clusters=n_clusters, affinity='euclidean', linkage='average')\n",
        "y_hc_average = hc_average.fit_predict(df)\n",
        "\n",
        "average_score = silhouette_score(df, y_hc_average)\n",
        "print(\"Silhouette_score:\", )"
      ],
      "execution_count": 83,
      "outputs": [
        {
          "output_type": "display_data",
          "data": {
            "image/png": "[encoded data removed]",
            "text/plain": [
              "<Figure size 432x288 with 1 Axes>"
            ]
          },
          "metadata": {
            "needs_background": "light"
          }
        },
        {
          "output_type": "stream",
          "name": "stdout",
          "text": [
            "Silhouette_score:\n"
          ]
        }
      ]
    },
    {
      "cell_type": "code",
      "metadata": {
        "colab": {
          "base_uri": "https://localhost:8080/",
          "height": 298
        },
        "id": "_7t6sxha-u7T",
        "outputId": "b28389c2-3f28-448a-9345-d578c7879e14"
      },
      "source": [
        "# Hirarchical Clustering menggunakan pendekatan single link\n",
        "showDendo(judul=\"Dendrograms using Single\", method='single', data=df)\n",
        "\n",
        "hc_single = AgglomerativeClustering(\n",
        "    n_clusters=n_clusters, affinity='euclidean', linkage='single')\n",
        "y_hc_single = hc_single.fit_predict(df)\n",
        "\n",
        "single_score = silhouette_score(df, y_hc_single)\n",
        "print(\"Silhouette_score:\", silhouette_score(df, y_hc_single))"
      ],
      "execution_count": 84,
      "outputs": [
        {
          "output_type": "display_data",
          "data": {
            "image/png": "[encoded data removed]",
            "text/plain": [
              "<Figure size 432x288 with 1 Axes>"
            ]
          },
          "metadata": {
            "needs_background": "light"
          }
        },
        {
          "output_type": "stream",
          "name": "stdout",
          "text": [
            "Silhouette_score: 0.7957467756794632\n"
          ]
        }
      ]
    },
    {
      "cell_type": "markdown",
      "metadata": {
        "id": "8We7qYJlq4TM"
      },
      "source": [
        "### 2.c"
      ]
    },
    {
      "cell_type": "code",
      "metadata": {
        "id": "4Yw6_kij1zgj"
      },
      "source": [
        "x = [kmeans_score,\n",
        "      ward_score,\n",
        "      complete_score,\n",
        "      average_score,\n",
        "      single_score]\n",
        "\n",
        "y = ['k-means score',\n",
        "      'agglo_ward score',\n",
        "      'agglo_complete score',\n",
        "      'agglo_average score',\n",
        "      'agglo_single score']\n",
        "\n",
        "scores = pd.DataFrame(data={'Jenis Metode': y, 'Score': x})"
      ],
      "execution_count": 85,
      "outputs": []
    },
    {
      "cell_type": "code",
      "metadata": {
        "colab": {
          "base_uri": "https://localhost:8080/",
          "height": 204
        },
        "id": "rj7_36Yf5M3H",
        "outputId": "b0d131bd-6e3b-4aff-c24f-68b94f6e439d"
      },
      "source": [
        "display(scores)"
      ],
      "execution_count": 86,
      "outputs": [
        {
          "output_type": "display_data",
          "data": {
            "text/html": [
              "<div>\n",
              "<style scoped>\n",
              "    .dataframe tbody tr th:only-of-type {\n",
              "        vertical-align: middle;\n",
              "    }\n",
              "\n",
              "    .dataframe tbody tr th {\n",
              "        vertical-align: top;\n",
              "    }\n",
              "\n",
              "    .dataframe thead th {\n",
              "        text-align: right;\n",
              "    }\n",
              "</style>\n",
              "<table border=\"1\" class=\"dataframe\">\n",
              "  <thead>\n",
              "    <tr style=\"text-align: right;\">\n",
              "      <th></th>\n",
              "      <th>Jenis Metode</th>\n",
              "      <th>Score</th>\n",
              "    </tr>\n",
              "  </thead>\n",
              "  <tbody>\n",
              "    <tr>\n",
              "      <th>0</th>\n",
              "      <td>k-means score</td>\n",
              "      <td>0.511533</td>\n",
              "    </tr>\n",
              "    <tr>\n",
              "      <th>1</th>\n",
              "      <td>agglo_ward score</td>\n",
              "      <td>0.344719</td>\n",
              "    </tr>\n",
              "    <tr>\n",
              "      <th>2</th>\n",
              "      <td>agglo_complete score</td>\n",
              "      <td>0.727594</td>\n",
              "    </tr>\n",
              "    <tr>\n",
              "      <th>3</th>\n",
              "      <td>agglo_average score</td>\n",
              "      <td>0.795747</td>\n",
              "    </tr>\n",
              "    <tr>\n",
              "      <th>4</th>\n",
              "      <td>agglo_single score</td>\n",
              "      <td>0.795747</td>\n",
              "    </tr>\n",
              "  </tbody>\n",
              "</table>\n",
              "</div>"
            ],
            "text/plain": [
              "           Jenis Metode     Score\n",
              "0         k-means score  0.511533\n",
              "1      agglo_ward score  0.344719\n",
              "2  agglo_complete score  0.727594\n",
              "3   agglo_average score  0.795747\n",
              "4    agglo_single score  0.795747"
            ]
          },
          "metadata": {}
        }
      ]
    },
    {
      "cell_type": "markdown",
      "metadata": {
        "id": "zRHdQRT_5pxN"
      },
      "source": [
        "Didapat kesimpulan bahwa berdasarkan silhouette score, metode hierarchical clustering lebih unggul dari  k mean."
      ]
    }
  ]
}