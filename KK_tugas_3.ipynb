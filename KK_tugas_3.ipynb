{
  "nbformat": 4,
  "nbformat_minor": 0,
  "metadata": {
    "colab": {
      "name": "Untitled10.ipynb",
      "provenance": [],
      "collapsed_sections": [],
      "authorship_tag": "ABX9TyMxdHxDsHu3gyhDYzJefP+R",
      "include_colab_link": true
    },
    "kernelspec": {
      "name": "python3",
      "display_name": "Python 3"
    },
    "language_info": {
      "name": "python"
    }
  },
  "cells": [
    {
      "cell_type": "markdown",
      "metadata": {
        "id": "view-in-github",
        "colab_type": "text"
      },
      "source": [
        "<a href=\"https://colab.research.google.com/github/Allam0053/KK/blob/main/KK_tugas_3.ipynb\" target=\"_parent\"><img src=\"https://colab.research.google.com/assets/colab-badge.svg\" alt=\"Open In Colab\"/></a>"
      ]
    },
    {
      "cell_type": "code",
      "metadata": {
        "id": "O0YOVYqunJEL"
      },
      "source": [
        "import numpy as np\n",
        "import pandas as pd\n",
        "import time\n",
        "from sklearn import preprocessing\n",
        "\n",
        "import matplotlib.pyplot as plt\n",
        "import seaborn as sns\n",
        "\n",
        "from sklearn.model_selection import train_test_split\n",
        "from sklearn.metrics import accuracy_score, precision_score, recall_score, f1_score, plot_confusion_matrix\n",
        "\n",
        "from sklearn import tree\n",
        "from sklearn.tree import DecisionTreeClassifier, plot_tree, export_text"
      ],
      "execution_count": 17,
      "outputs": []
    },
    {
      "cell_type": "code",
      "metadata": {
        "id": "bZsmRjr1sICG"
      },
      "source": [
        "def my_template (model, x_train, y_train, x_test, y_test, model_name):\n",
        "  model.fit(x_train, y_train)\n",
        "  prediksi_model = model.predict(x_test)\n",
        "  acc_model = accuracy_score(y_test, prediksi_model)\n",
        "  pre_model = precision_score(y_test, prediksi_model, average='micro')\n",
        "  rec_model = recall_score(y_test, prediksi_model, average='micro')\n",
        "  f1_model = f1_score(y_test, prediksi_model, average='micro')\n",
        "  print('Akurasi', model_name, ':', acc_model)\n",
        "  my = {\n",
        "      'model': model_name,\n",
        "      'predict': prediksi_model,\n",
        "      'akurasi': acc_model,\n",
        "      'precision_score' : pre_model,\n",
        "      'recall_score' : rec_model,\n",
        "      'f1_score' : f1_model\n",
        "  }\n",
        "  return my"
      ],
      "execution_count": 46,
      "outputs": []
    },
    {
      "cell_type": "code",
      "metadata": {
        "colab": {
          "base_uri": "https://localhost:8080/",
          "height": 255
        },
        "id": "HfHULOhwnZ_l",
        "outputId": "ea6eb549-bee0-428d-a4d6-72685e9d8f9b"
      },
      "source": [
        "df = pd.read_excel('Dry_Bean_Dataset.xlsx', index_col=0)\n",
        "\n",
        "df.head()"
      ],
      "execution_count": 4,
      "outputs": [
        {
          "output_type": "execute_result",
          "data": {
            "text/html": [
              "<div>\n",
              "<style scoped>\n",
              "    .dataframe tbody tr th:only-of-type {\n",
              "        vertical-align: middle;\n",
              "    }\n",
              "\n",
              "    .dataframe tbody tr th {\n",
              "        vertical-align: top;\n",
              "    }\n",
              "\n",
              "    .dataframe thead th {\n",
              "        text-align: right;\n",
              "    }\n",
              "</style>\n",
              "<table border=\"1\" class=\"dataframe\">\n",
              "  <thead>\n",
              "    <tr style=\"text-align: right;\">\n",
              "      <th></th>\n",
              "      <th>Perimeter</th>\n",
              "      <th>MajorAxisLength</th>\n",
              "      <th>MinorAxisLength</th>\n",
              "      <th>AspectRation</th>\n",
              "      <th>Eccentricity</th>\n",
              "      <th>ConvexArea</th>\n",
              "      <th>EquivDiameter</th>\n",
              "      <th>Extent</th>\n",
              "      <th>Solidity</th>\n",
              "      <th>roundness</th>\n",
              "      <th>Compactness</th>\n",
              "      <th>ShapeFactor1</th>\n",
              "      <th>ShapeFactor2</th>\n",
              "      <th>ShapeFactor3</th>\n",
              "      <th>ShapeFactor4</th>\n",
              "      <th>Class</th>\n",
              "    </tr>\n",
              "    <tr>\n",
              "      <th>Area</th>\n",
              "      <th></th>\n",
              "      <th></th>\n",
              "      <th></th>\n",
              "      <th></th>\n",
              "      <th></th>\n",
              "      <th></th>\n",
              "      <th></th>\n",
              "      <th></th>\n",
              "      <th></th>\n",
              "      <th></th>\n",
              "      <th></th>\n",
              "      <th></th>\n",
              "      <th></th>\n",
              "      <th></th>\n",
              "      <th></th>\n",
              "      <th></th>\n",
              "    </tr>\n",
              "  </thead>\n",
              "  <tbody>\n",
              "    <tr>\n",
              "      <th>28395</th>\n",
              "      <td>610.291</td>\n",
              "      <td>208.178117</td>\n",
              "      <td>173.888747</td>\n",
              "      <td>1.197191</td>\n",
              "      <td>0.549812</td>\n",
              "      <td>28715</td>\n",
              "      <td>190.141097</td>\n",
              "      <td>0.763923</td>\n",
              "      <td>0.988856</td>\n",
              "      <td>0.958027</td>\n",
              "      <td>0.913358</td>\n",
              "      <td>0.007332</td>\n",
              "      <td>0.003147</td>\n",
              "      <td>0.834222</td>\n",
              "      <td>0.998724</td>\n",
              "      <td>SEKER</td>\n",
              "    </tr>\n",
              "    <tr>\n",
              "      <th>28734</th>\n",
              "      <td>638.018</td>\n",
              "      <td>200.524796</td>\n",
              "      <td>182.734419</td>\n",
              "      <td>1.097356</td>\n",
              "      <td>0.411785</td>\n",
              "      <td>29172</td>\n",
              "      <td>191.272750</td>\n",
              "      <td>0.783968</td>\n",
              "      <td>0.984986</td>\n",
              "      <td>0.887034</td>\n",
              "      <td>0.953861</td>\n",
              "      <td>0.006979</td>\n",
              "      <td>0.003564</td>\n",
              "      <td>0.909851</td>\n",
              "      <td>0.998430</td>\n",
              "      <td>SEKER</td>\n",
              "    </tr>\n",
              "    <tr>\n",
              "      <th>29380</th>\n",
              "      <td>624.110</td>\n",
              "      <td>212.826130</td>\n",
              "      <td>175.931143</td>\n",
              "      <td>1.209713</td>\n",
              "      <td>0.562727</td>\n",
              "      <td>29690</td>\n",
              "      <td>193.410904</td>\n",
              "      <td>0.778113</td>\n",
              "      <td>0.989559</td>\n",
              "      <td>0.947849</td>\n",
              "      <td>0.908774</td>\n",
              "      <td>0.007244</td>\n",
              "      <td>0.003048</td>\n",
              "      <td>0.825871</td>\n",
              "      <td>0.999066</td>\n",
              "      <td>SEKER</td>\n",
              "    </tr>\n",
              "    <tr>\n",
              "      <th>30008</th>\n",
              "      <td>645.884</td>\n",
              "      <td>210.557999</td>\n",
              "      <td>182.516516</td>\n",
              "      <td>1.153638</td>\n",
              "      <td>0.498616</td>\n",
              "      <td>30724</td>\n",
              "      <td>195.467062</td>\n",
              "      <td>0.782681</td>\n",
              "      <td>0.976696</td>\n",
              "      <td>0.903936</td>\n",
              "      <td>0.928329</td>\n",
              "      <td>0.007017</td>\n",
              "      <td>0.003215</td>\n",
              "      <td>0.861794</td>\n",
              "      <td>0.994199</td>\n",
              "      <td>SEKER</td>\n",
              "    </tr>\n",
              "    <tr>\n",
              "      <th>30140</th>\n",
              "      <td>620.134</td>\n",
              "      <td>201.847882</td>\n",
              "      <td>190.279279</td>\n",
              "      <td>1.060798</td>\n",
              "      <td>0.333680</td>\n",
              "      <td>30417</td>\n",
              "      <td>195.896503</td>\n",
              "      <td>0.773098</td>\n",
              "      <td>0.990893</td>\n",
              "      <td>0.984877</td>\n",
              "      <td>0.970516</td>\n",
              "      <td>0.006697</td>\n",
              "      <td>0.003665</td>\n",
              "      <td>0.941900</td>\n",
              "      <td>0.999166</td>\n",
              "      <td>SEKER</td>\n",
              "    </tr>\n",
              "  </tbody>\n",
              "</table>\n",
              "</div>"
            ],
            "text/plain": [
              "       Perimeter  MajorAxisLength  ...  ShapeFactor4  Class\n",
              "Area                               ...                     \n",
              "28395    610.291       208.178117  ...      0.998724  SEKER\n",
              "28734    638.018       200.524796  ...      0.998430  SEKER\n",
              "29380    624.110       212.826130  ...      0.999066  SEKER\n",
              "30008    645.884       210.557999  ...      0.994199  SEKER\n",
              "30140    620.134       201.847882  ...      0.999166  SEKER\n",
              "\n",
              "[5 rows x 16 columns]"
            ]
          },
          "metadata": {},
          "execution_count": 4
        }
      ]
    },
    {
      "cell_type": "markdown",
      "metadata": {
        "id": "7JDxHehipUfV"
      },
      "source": [
        "### SCALE / NORMALISASI"
      ]
    },
    {
      "cell_type": "code",
      "metadata": {
        "colab": {
          "base_uri": "https://localhost:8080/",
          "height": 255
        },
        "id": "R2HfAeDDoLAX",
        "outputId": "1740d2fd-6177-450f-afff-545a521a9aac"
      },
      "source": [
        "df_scaled = df.copy()\n",
        "\n",
        "for column in df_scaled.columns:\n",
        "    if (column == 'Class'):\n",
        "        continue\n",
        "    df_scaled[column] = df_scaled[column] / df_scaled[column].abs().max()\n",
        "\n",
        "df_max_scaled.head()"
      ],
      "execution_count": 7,
      "outputs": [
        {
          "output_type": "execute_result",
          "data": {
            "text/html": [
              "<div>\n",
              "<style scoped>\n",
              "    .dataframe tbody tr th:only-of-type {\n",
              "        vertical-align: middle;\n",
              "    }\n",
              "\n",
              "    .dataframe tbody tr th {\n",
              "        vertical-align: top;\n",
              "    }\n",
              "\n",
              "    .dataframe thead th {\n",
              "        text-align: right;\n",
              "    }\n",
              "</style>\n",
              "<table border=\"1\" class=\"dataframe\">\n",
              "  <thead>\n",
              "    <tr style=\"text-align: right;\">\n",
              "      <th></th>\n",
              "      <th>Perimeter</th>\n",
              "      <th>MajorAxisLength</th>\n",
              "      <th>MinorAxisLength</th>\n",
              "      <th>AspectRation</th>\n",
              "      <th>Eccentricity</th>\n",
              "      <th>ConvexArea</th>\n",
              "      <th>EquivDiameter</th>\n",
              "      <th>Extent</th>\n",
              "      <th>Solidity</th>\n",
              "      <th>roundness</th>\n",
              "      <th>Compactness</th>\n",
              "      <th>ShapeFactor1</th>\n",
              "      <th>ShapeFactor2</th>\n",
              "      <th>ShapeFactor3</th>\n",
              "      <th>ShapeFactor4</th>\n",
              "      <th>Class</th>\n",
              "    </tr>\n",
              "    <tr>\n",
              "      <th>Area</th>\n",
              "      <th></th>\n",
              "      <th></th>\n",
              "      <th></th>\n",
              "      <th></th>\n",
              "      <th></th>\n",
              "      <th></th>\n",
              "      <th></th>\n",
              "      <th></th>\n",
              "      <th></th>\n",
              "      <th></th>\n",
              "      <th></th>\n",
              "      <th></th>\n",
              "      <th></th>\n",
              "      <th></th>\n",
              "      <th></th>\n",
              "      <th></th>\n",
              "    </tr>\n",
              "  </thead>\n",
              "  <tbody>\n",
              "    <tr>\n",
              "      <th>28395</th>\n",
              "      <td>0.307394</td>\n",
              "      <td>0.281756</td>\n",
              "      <td>0.377856</td>\n",
              "      <td>0.492609</td>\n",
              "      <td>0.603246</td>\n",
              "      <td>0.109074</td>\n",
              "      <td>0.333947</td>\n",
              "      <td>0.881929</td>\n",
              "      <td>0.994147</td>\n",
              "      <td>0.967035</td>\n",
              "      <td>0.925104</td>\n",
              "      <td>0.701501</td>\n",
              "      <td>0.858748</td>\n",
              "      <td>0.855817</td>\n",
              "      <td>0.998991</td>\n",
              "      <td>SEKER</td>\n",
              "    </tr>\n",
              "    <tr>\n",
              "      <th>28734</th>\n",
              "      <td>0.321360</td>\n",
              "      <td>0.271397</td>\n",
              "      <td>0.397077</td>\n",
              "      <td>0.451530</td>\n",
              "      <td>0.451805</td>\n",
              "      <td>0.110810</td>\n",
              "      <td>0.335935</td>\n",
              "      <td>0.905072</td>\n",
              "      <td>0.990256</td>\n",
              "      <td>0.895374</td>\n",
              "      <td>0.966128</td>\n",
              "      <td>0.667740</td>\n",
              "      <td>0.972347</td>\n",
              "      <td>0.933403</td>\n",
              "      <td>0.998697</td>\n",
              "      <td>SEKER</td>\n",
              "    </tr>\n",
              "    <tr>\n",
              "      <th>29380</th>\n",
              "      <td>0.314355</td>\n",
              "      <td>0.288047</td>\n",
              "      <td>0.382294</td>\n",
              "      <td>0.497761</td>\n",
              "      <td>0.617416</td>\n",
              "      <td>0.112778</td>\n",
              "      <td>0.339690</td>\n",
              "      <td>0.898312</td>\n",
              "      <td>0.994854</td>\n",
              "      <td>0.956761</td>\n",
              "      <td>0.920461</td>\n",
              "      <td>0.693120</td>\n",
              "      <td>0.831584</td>\n",
              "      <td>0.847249</td>\n",
              "      <td>0.999333</td>\n",
              "      <td>SEKER</td>\n",
              "    </tr>\n",
              "    <tr>\n",
              "      <th>30008</th>\n",
              "      <td>0.325322</td>\n",
              "      <td>0.284977</td>\n",
              "      <td>0.396604</td>\n",
              "      <td>0.474688</td>\n",
              "      <td>0.547074</td>\n",
              "      <td>0.116705</td>\n",
              "      <td>0.343301</td>\n",
              "      <td>0.903586</td>\n",
              "      <td>0.981922</td>\n",
              "      <td>0.912435</td>\n",
              "      <td>0.940267</td>\n",
              "      <td>0.671382</td>\n",
              "      <td>0.877104</td>\n",
              "      <td>0.884103</td>\n",
              "      <td>0.994465</td>\n",
              "      <td>SEKER</td>\n",
              "    </tr>\n",
              "    <tr>\n",
              "      <th>30140</th>\n",
              "      <td>0.312352</td>\n",
              "      <td>0.273188</td>\n",
              "      <td>0.413472</td>\n",
              "      <td>0.436487</td>\n",
              "      <td>0.366108</td>\n",
              "      <td>0.115539</td>\n",
              "      <td>0.344056</td>\n",
              "      <td>0.892522</td>\n",
              "      <td>0.996196</td>\n",
              "      <td>0.994137</td>\n",
              "      <td>0.982997</td>\n",
              "      <td>0.640791</td>\n",
              "      <td>1.000000</td>\n",
              "      <td>0.966282</td>\n",
              "      <td>0.999433</td>\n",
              "      <td>SEKER</td>\n",
              "    </tr>\n",
              "  </tbody>\n",
              "</table>\n",
              "</div>"
            ],
            "text/plain": [
              "       Perimeter  MajorAxisLength  ...  ShapeFactor4  Class\n",
              "Area                               ...                     \n",
              "28395   0.307394         0.281756  ...      0.998991  SEKER\n",
              "28734   0.321360         0.271397  ...      0.998697  SEKER\n",
              "29380   0.314355         0.288047  ...      0.999333  SEKER\n",
              "30008   0.325322         0.284977  ...      0.994465  SEKER\n",
              "30140   0.312352         0.273188  ...      0.999433  SEKER\n",
              "\n",
              "[5 rows x 16 columns]"
            ]
          },
          "metadata": {},
          "execution_count": 7
        }
      ]
    },
    {
      "cell_type": "markdown",
      "metadata": {
        "id": "ecNdxzyopOyG"
      },
      "source": [
        "### SPLIT"
      ]
    },
    {
      "cell_type": "code",
      "metadata": {
        "id": "h0fePdDxpN7c"
      },
      "source": [
        "from sklearn.model_selection import train_test_split\n",
        "\n",
        "train_df, test_df = train_test_split(df_max_scaled, test_size=0.2)\n",
        "\n",
        "x_train = train_df.drop(columns=['Class'])\n",
        "y_train = train_df['Class']\n",
        "\n",
        "x_test = test_df.drop(columns=['Class'])\n",
        "y_test = test_df['Class']\n"
      ],
      "execution_count": 8,
      "outputs": []
    },
    {
      "cell_type": "markdown",
      "metadata": {
        "id": "7b0wJP0qpsn8"
      },
      "source": [
        "### SVM"
      ]
    },
    {
      "cell_type": "code",
      "metadata": {
        "colab": {
          "base_uri": "https://localhost:8080/"
        },
        "id": "CBr15bYCsumj",
        "outputId": "a3ec3b99-7654-4179-801e-f9d81650f504"
      },
      "source": [
        "from sklearn import svm\n",
        "\n",
        "dSVM_ovo = svm.SVC(C=1.0, kernel='linear',\n",
        "                   decision_function_shape='ovo')  # one versus one SVM\n",
        "\n",
        "hasil['svm'] = my_template(dSVM_ovo, x_train=x_train, y_train=y_train, x_test=x_test, y_test=y_test, model_name='svm')"
      ],
      "execution_count": 50,
      "outputs": [
        {
          "output_type": "stream",
          "name": "stdout",
          "text": [
            "Akurasi svm : 0.9125964010282777\n"
          ]
        }
      ]
    },
    {
      "cell_type": "code",
      "metadata": {
        "colab": {
          "base_uri": "https://localhost:8080/",
          "height": 335
        },
        "id": "fwxrdq0_qJ8V",
        "outputId": "9b9016de-330f-4749-ea1b-008b5ba37833"
      },
      "source": [
        "plot_confusion_matrix(dSVM_ovo, x_test, y_test)\n",
        "plt.xticks(rotation=45)"
      ],
      "execution_count": 35,
      "outputs": [
        {
          "output_type": "execute_result",
          "data": {
            "text/plain": [
              "(array([0, 1, 2, 3, 4, 5, 6]), <a list of 7 Text major ticklabel objects>)"
            ]
          },
          "metadata": {},
          "execution_count": 35
        },
        {
          "output_type": "display_data",
          "data": {
            "image/png": "[encoded data removed]",
            "text/plain": [
              "<Figure size 432x288 with 2 Axes>"
            ]
          },
          "metadata": {
            "needs_background": "light"
          }
        }
      ]
    },
    {
      "cell_type": "markdown",
      "metadata": {
        "id": "HaQpyIiHqatd"
      },
      "source": [
        "### D-Tree"
      ]
    },
    {
      "cell_type": "code",
      "metadata": {
        "colab": {
          "base_uri": "https://localhost:8080/"
        },
        "id": "td3AeMplqY8j",
        "outputId": "1d443989-3e6a-4428-e123-640e273b107a"
      },
      "source": [
        "DT = tree.DecisionTreeClassifier(criterion='entropy')\n",
        "\n",
        "hasil['dtree'] = my_template(DT, x_train=x_train, y_train=y_train, x_test=x_test, y_test=y_test, model_name='Decision Tree')"
      ],
      "execution_count": 51,
      "outputs": [
        {
          "output_type": "stream",
          "name": "stdout",
          "text": [
            "Akurasi Decision Tree : 0.8898273962541314\n"
          ]
        }
      ]
    },
    {
      "cell_type": "code",
      "metadata": {
        "colab": {
          "base_uri": "https://localhost:8080/",
          "height": 338
        },
        "id": "qmyDNslxqf-j",
        "outputId": "9875a14f-56f8-4d73-c66d-8e0ac52d75db"
      },
      "source": [
        "plot_confusion_matrix(DT, x_test, y_test)\n",
        "plt.xticks(rotation=45)"
      ],
      "execution_count": 37,
      "outputs": [
        {
          "output_type": "execute_result",
          "data": {
            "text/plain": [
              "(array([0, 1, 2, 3, 4, 5, 6]), <a list of 7 Text major ticklabel objects>)"
            ]
          },
          "metadata": {},
          "execution_count": 37
        },
        {
          "output_type": "display_data",
          "data": {
            "image/png": "[encoded data removed]",
            "text/plain": [
              "<Figure size 432x288 with 2 Axes>"
            ]
          },
          "metadata": {
            "needs_background": "light"
          }
        }
      ]
    },
    {
      "cell_type": "markdown",
      "metadata": {
        "id": "C9L1FX10qxba"
      },
      "source": [
        "### ANN"
      ]
    },
    {
      "cell_type": "code",
      "metadata": {
        "colab": {
          "base_uri": "https://localhost:8080/"
        },
        "id": "oHfgUt_zqxHm",
        "outputId": "4799f1b0-ac3b-4388-db82-c24ebce3e39a"
      },
      "source": [
        "from sklearn.neural_network import MLPClassifier\n",
        "# Create an instance of the classifier\n",
        "mlp = MLPClassifier(random_state=42)\n",
        "\n",
        "hasil['ann'] = my_template(mlp, x_train=x_train, y_train=y_train, x_test=x_test, y_test=y_test, model_name='MLP')"
      ],
      "execution_count": 52,
      "outputs": [
        {
          "output_type": "stream",
          "name": "stdout",
          "text": [
            "Akurasi MLP : 0.9159015791406537\n"
          ]
        },
        {
          "output_type": "stream",
          "name": "stderr",
          "text": [
            "/usr/local/lib/python3.7/dist-packages/sklearn/neural_network/_multilayer_perceptron.py:571: ConvergenceWarning: Stochastic Optimizer: Maximum iterations (200) reached and the optimization hasn't converged yet.\n",
            "  % self.max_iter, ConvergenceWarning)\n"
          ]
        }
      ]
    },
    {
      "cell_type": "code",
      "metadata": {
        "colab": {
          "base_uri": "https://localhost:8080/",
          "height": 334
        },
        "id": "By2iT988q2yO",
        "outputId": "99ff62fb-9382-45fd-e24b-1e27615c75eb"
      },
      "source": [
        "plot_confusion_matrix(mlp, x_test, y_test)\n",
        "plt.xticks(rotation=45)"
      ],
      "execution_count": 40,
      "outputs": [
        {
          "output_type": "execute_result",
          "data": {
            "text/plain": [
              "(array([0, 1, 2, 3, 4, 5, 6]), <a list of 7 Text major ticklabel objects>)"
            ]
          },
          "metadata": {},
          "execution_count": 40
        },
        {
          "output_type": "display_data",
          "data": {
            "image/png": "[encoded data removed]",
            "text/plain": [
              "<Figure size 432x288 with 2 Axes>"
            ]
          },
          "metadata": {
            "needs_background": "light"
          }
        }
      ]
    },
    {
      "cell_type": "code",
      "metadata": {
        "colab": {
          "base_uri": "https://localhost:8080/",
          "height": 35
        },
        "id": "EybxS_scvh9p",
        "outputId": "d9127ecd-6701-4d26-ffe1-93f97ecd83a5"
      },
      "source": [
        "hasil['dtree']['model']"
      ],
      "execution_count": 41,
      "outputs": [
        {
          "output_type": "execute_result",
          "data": {
            "application/vnd.google.colaboratory.intrinsic+json": {
              "type": "string"
            },
            "text/plain": [
              "'Decision Tree'"
            ]
          },
          "metadata": {},
          "execution_count": 41
        }
      ]
    },
    {
      "cell_type": "code",
      "metadata": {
        "colab": {
          "base_uri": "https://localhost:8080/"
        },
        "id": "2bMOsAg2rKJY",
        "outputId": "93a3bc67-8a4f-43b0-d559-853caa0aa71f"
      },
      "source": [
        "from tabulate import tabulate\n",
        "\n",
        "tb_headers = ['Akurasi', 'Presision', 'Recall', 'F1']\n",
        "tb_index = [hasil['dtree']['model'], \n",
        "            hasil['svm']['model'], \n",
        "            hasil['ann']['model']]\n",
        "\n",
        "tb_data = [\n",
        "           [hasil['dtree']['akurasi'], hasil['dtree']['precision_score'], hasil['dtree']['recall_score'], hasil['dtree']['f1_score']],\n",
        "           [hasil['svm']['akurasi'], hasil['svm']['precision_score'], hasil['svm']['recall_score'], hasil['svm']['f1_score']],\n",
        "           [hasil['ann']['akurasi'], hasil['ann']['precision_score'], hasil['ann']['recall_score'], hasil['ann']['f1_score']],\n",
        "]\n",
        "\n",
        "print(tabulate(tb_data, headers=tb_headers,showindex=tb_index))\n"
      ],
      "execution_count": 55,
      "outputs": [
        {
          "output_type": "stream",
          "name": "stdout",
          "text": [
            "                 Akurasi    Presision    Recall        F1\n",
            "-------------  ---------  -----------  --------  --------\n",
            "Decision Tree   0.889827     0.889827  0.889827  0.889827\n",
            "svm             0.912596     0.912596  0.912596  0.912596\n",
            "MLP             0.915902     0.915902  0.915902  0.915902\n"
          ]
        }
      ]
    },
    {
      "cell_type": "markdown",
      "metadata": {
        "id": "Ll-1CFndyNov"
      },
      "source": [
        "### Kesimpulan\n",
        "Pada kasus ini, hasil perbandingan antar metode klasifikasi D-Tree, SVM, dan MLP tidak memberikan jarak yang signifikan. Ketiga metode tersebut dapat mengklasifikasikan data Dry Bean dengan baik. Baik score akurasi, precision, recall, dan f1 cukup tinggi. Tetapi MLP mempunyai score paling tinggi, diikuti dengan SVM lalu D-Tree. Pada training model, MLP adalah yang paling lama. berdasarkan history dari running program yang ada di atas, MLP membutuhkan waktu 14 detik, SVM membutuhkan waktu 1 detik, dan D-Tree membutuhkan waktu antara 0 sampai 1 detik."
      ]
    }
  ]
}